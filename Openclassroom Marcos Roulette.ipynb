{
 "cells": [
  {
   "cell_type": "code",
   "execution_count": 86,
   "metadata": {},
   "outputs": [
    {
     "name": "stdout",
     "output_type": "stream",
     "text": [
      "Welcome to Montecarlo !!!! \n",
      " It seems you found 1000 Euros abandoned on your spaceship. \n",
      " No use for those at the restaurant at the end of the Universe, \n",
      " so let's have some fun here with all those pieces of paper. \n",
      " Our galactic roulette is by far the best entertainment of planet Earth_34. \n"
     ]
    }
   ],
   "source": [
    "# Roulette python\n",
    "import random as rd\n",
    "print(\"Welcome to Montecarlo !!!! \\n It seems you found 1000 Euros abandoned on your spaceship. \\n No use for those at the restaurant at the end of the Universe, \\n so let's have some fun here with all those pieces of paper. \\n Our galactic roulette is by far the best entertainment of planet Earth_34. \")\n"
   ]
  },
  {
   "cell_type": "code",
   "execution_count": 93,
   "metadata": {},
   "outputs": [
    {
     "name": "stdout",
     "output_type": "stream",
     "text": [
      "1000\n",
      "How much would you like to bet?: 200\n",
      "you put on the table 200\n",
      "On which number would you like to bet? (enter a number in the range 0-49): 5\n",
      "let's spin the roulette now\n",
      "1000\n",
      "1000\n",
      "The ball stopped on number 0\n",
      "Now you have got only -1 EUR left in your pocket. \n",
      " Come on, don't cry, try again and you will be luckier! \n",
      " (I wish I had a cent for every time I said this)\n"
     ]
    }
   ],
   "source": [
    "Pocketmoney = 1000\n",
    "amountBet = 1001\n",
    "def gamble(Pocketmoney, amountBet):\n",
    "\n",
    "    # money you gamble, with a control loop since it is easy to bet too much\n",
    "    while amountBet > Pocketmoney:\n",
    "        amountBet = int(input('How much would you like to bet?: '))\n",
    "        if amountBet > Pocketmoney:\n",
    "            print(\"you can bet a max of:\", Pocketmoney)\n",
    "        else:\n",
    "            print(\"you put on the table\",  amountBet)\n",
    "    assert amountBet >= 0, \"A negative or null bet cannot exist\"\n",
    "print(Pocketmoney)\n",
    "gambleFunction = gamble(Pocketmoney, amountBet)\n",
    "\n",
    "def bet(chosenRouletteNum):\n",
    "    # number you bet on\n",
    "    chosenRouletteNum = int(input('On which number would you like to bet? (enter a number in the range 0-49): '))\n",
    "    assert chosenRouletteNum in range(0,50,1), \"Out of range\"\n",
    "    print(\"let's spin the roulette now\")\n",
    "betfunction = bet(chosenRouletteNum)\n",
    "print(Pocketmoney)\n",
    "def rouletteSpin(luckyNumber, Pocketmoney):\n",
    "    luckyNumber = rd.randint(0,49) # spin the roulette wheel\n",
    "    if chosenRouletteNum == luckyNumber:\n",
    "        Pocketmoney = Pocketmoney + 50*amountBet\n",
    "        print(\"The ball stopped on number\",luckyNumber)\n",
    "        print(\"WOW! You made it!!! Now you got\", Pocketmoney,\"EUR in your pocket. \\Lots of alien blondies are starting to get very interested in your game. \\n Before offering them champagne, try your luck again\")\n",
    "    else:\n",
    "        Pocketmoney -= amountBet # takes out the bet from wallet\n",
    "        print(\"The ball stopped on number\",luckyNumber)\n",
    "        print(\"Now you have got only\",Pocketmoney,\"EUR left in your pocket. \\n Come on, don't cry, try again and you will be luckier! \\n (I wish I had a cent for every time I said this)\")\n",
    "print(Pocketmoney)\n",
    "spinoutcome = rouletteSpin(luckyNumber, Pocketmoney)"
   ]
  
   "cell_type": "code",
   "execution_count": null,
   "metadata": {},
   "outputs": [],
   "source": []
  }
 ],
 "metadata": {
  "kernelspec": {
   "display_name": "Python 3",
   "language": "python",
   "name": "python3"
  },
  "language_info": {
   "codemirror_mode": {
    "name": "ipython",
    "version": 3
   },
   "file_extension": ".py",
   "mimetype": "text/x-python",
   "name": "python",
   "nbconvert_exporter": "python",
   "pygments_lexer": "ipython3",
   "version": "3.7.3"
  }
 },
 "nbformat": 4,
 "nbformat_minor": 2
}
