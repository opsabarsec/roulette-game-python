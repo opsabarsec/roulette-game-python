{
 "cells": [
  {
   "cell_type": "code",
   "execution_count": null,
   "metadata": {},
   "outputs": [],
   "source": [
    "import random as rd\n",
    "money= 1000 # amount you got in your pocket\n",
    "print(\"You have 1000 Euros and you want have some fun here in Montecarlo. \\n The roulette table is waiting for you now. \\n WELCOME!!!\")\n",
    "\n",
    "while money > 0:\n",
    "    amountBet = int(input('How much would you like to bet?: '))\n",
    "    if amountBet <= money: # first condition: you cannot bet more than what you have in the pocket\n",
    "        choseNum = int(input('place your bet on a number between 0 and 49: '))\n",
    "        if choseNum in range(0,50): # second condition: you can bet only in the range 0-49 or it restarts\n",
    "            wheel = rd.randint(0,49) # spin the roulette wheel\n",
    "            print(\"wheel stopped on number: \",wheel)\n",
    "            if choseNum == wheel: # winning condition\n",
    "                money = money + 50*amountBet # consequence of winning\n",
    "                print(\"WOW! You made it!!! Now you got\", money,\"EUR in your pocket. \\Lots of pretty ladies are starting to get very interested in your game. \\n Before offering them champagne, try your luck again\")\n",
    "            else:\n",
    "                money -= amountBet # takes out the bet from wallet (consequence of losing)\n",
    "                print(\"Now you have got only\",money,\"EUR left in your pocket. \\n Come on, don't cry, try again and you will be luckier! \\n (I wish I had a cent for every time I said this)\")\n",
    "        else: \n",
    "            print(\"out of range\")\n",
    "    else:\n",
    "        print(\"you have only \",money,\"Euros bet less\")\n",
    "print(\"Unfortunately now you are out of money :(. \\n Well, if needed I know someone just outside the casino door \\n ready to buy your new laptop ;)\")\n",
    "       \n",
    "    \n",
    "    "
   ]
  },
  {
   "cell_type": "code",
   "execution_count": null,
   "metadata": {},
   "outputs": [],
   "source": []
  },
  {
   "cell_type": "code",
   "execution_count": null,
   "metadata": {},
   "outputs": [],
   "source": []
  }
 ],
 "metadata": {
  "kernelspec": {
   "display_name": "Python 3",
   "language": "python",
   "name": "python3"
  },
  "language_info": {
   "codemirror_mode": {
    "name": "ipython",
    "version": 3
   },
   "file_extension": ".py",
   "mimetype": "text/x-python",
   "name": "python",
   "nbconvert_exporter": "python",
   "pygments_lexer": "ipython3",
   "version": "3.7.3"
  }
 },
 "nbformat": 4,
 "nbformat_minor": 2
}
