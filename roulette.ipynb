import random as rd
money= 1000 # amount you got in your pocket
print("You have 1000 Euros and you want have some fun here in Montecarlo. \n The roulette table is waiting for you now. \n WELCOME!!!")

while money > 0:
    amountBet = int(input('How much would you like to bet?: '))
    if amountBet <= money: # first condition: you cannot bet more than what you have in the pocket
        choseNum = int(input('place your bet on a number between 0 and 49: '))
        if choseNum in range(0,50): # second condition: you can bet only in the range 0-49 or it restarts
            wheel = rd.randint(0,49) # spin the roulette wheel
            print("wheel stopped on number: ",wheel)
            if choseNum == wheel: # winning condition
                money = money + 50*amountBet # consequence of winning
                print("WOW! You made it!!! Now you got", money,"EUR in your pocket. \Lots of pretty ladies are starting to get very interested in your game. \n Before offering them champagne, try your luck again")
            else:
                money -= amountBet # takes out the bet from wallet (consequence of losing)
                print("Now you have got only",money,"EUR left in your pocket. \n Come on, don't cry, try again and you will be luckier! \n (I wish I had a cent for every time I said this)")
        else: 
            print("out of range")
    else:
        print("you have only ",money,"Euros bet less")
print("Unfortunately now you are out of money :(. \n Well, if needed I know someone just outside the casino door \n ready to buy your new laptop ;)")
       
